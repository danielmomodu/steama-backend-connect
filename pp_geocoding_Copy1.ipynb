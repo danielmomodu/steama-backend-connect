{
  "nbformat": 4,
  "nbformat_minor": 0,
  "metadata": {
    "kernelspec": {
      "display_name": "Python 3",
      "language": "python",
      "name": "python3"
    },
    "language_info": {
      "codemirror_mode": {
        "name": "ipython",
        "version": 3
      },
      "file_extension": ".py",
      "mimetype": "text/x-python",
      "name": "python",
      "nbconvert_exporter": "python",
      "pygments_lexer": "ipython3",
      "version": "3.7.6"
    },
    "colab": {
      "name": "pp - geocoding-Copy1.ipynb",
      "provenance": [],
      "collapsed_sections": [],
      "include_colab_link": true
    }
  },
  "cells": [
    {
      "cell_type": "markdown",
      "metadata": {
        "id": "view-in-github",
        "colab_type": "text"
      },
      "source": [
        "<a href=\"https://colab.research.google.com/github/danielmomodu/steama-backend-connect/blob/main/pp_geocoding_Copy1.ipynb\" target=\"_parent\"><img src=\"https://colab.research.google.com/assets/colab-badge.svg\" alt=\"Open In Colab\"/></a>"
      ]
    },
    {
      "cell_type": "code",
      "metadata": {
        "colab": {
          "base_uri": "https://localhost:8080/"
        },
        "id": "PNSHHOEnFd4r",
        "outputId": "c53ed3ae-055c-4b68-d1b0-e9022ab091b5"
      },
      "source": [
        "import pandas as pd\n",
        "import numpy as np\n",
        "import warnings\n",
        "import re\n",
        "import math\n",
        "warnings.filterwarnings(\"ignore\")\n",
        "\n",
        "poles = pd.read_excel(\"POLE LAYOUT GPS (INI LGA).xlsx\", skiprows=4).drop(columns=['Unnamed: 0','Unnamed: 1'])\n",
        "poles.columns = ['Lat', 'Long', 'Status']\n",
        "poles.head()\n",
        "poles['Status'].unique()"
      ],
      "execution_count": 12,
      "outputs": [
        {
          "output_type": "execute_result",
          "data": {
            "text/plain": [
              "array([nan, 'EXISTING'], dtype=object)"
            ]
          },
          "metadata": {},
          "execution_count": 12
        }
      ]
    },
    {
      "cell_type": "code",
      "metadata": {
        "colab": {
          "base_uri": "https://localhost:8080/",
          "height": 206
        },
        "id": "7_oKKa0eFd43",
        "outputId": "5dadf45c-69a0-4e81-9146-341e0cd3c409"
      },
      "source": [
        "houses = pd.read_excel(\"Prado Power Customer enumeration    (Akwaibom State, Nigeria.).xlsx\")\n",
        "houses = houses[[\"9. Latitude \", \"10. Longitude \"]]\n",
        "houses.columns=['Lat','Long']\n",
        "houses.head()"
      ],
      "execution_count": 13,
      "outputs": [
        {
          "output_type": "execute_result",
          "data": {
            "text/html": [
              "<div>\n",
              "<style scoped>\n",
              "    .dataframe tbody tr th:only-of-type {\n",
              "        vertical-align: middle;\n",
              "    }\n",
              "\n",
              "    .dataframe tbody tr th {\n",
              "        vertical-align: top;\n",
              "    }\n",
              "\n",
              "    .dataframe thead th {\n",
              "        text-align: right;\n",
              "    }\n",
              "</style>\n",
              "<table border=\"1\" class=\"dataframe\">\n",
              "  <thead>\n",
              "    <tr style=\"text-align: right;\">\n",
              "      <th></th>\n",
              "      <th>Lat</th>\n",
              "      <th>Long</th>\n",
              "    </tr>\n",
              "  </thead>\n",
              "  <tbody>\n",
              "    <tr>\n",
              "      <th>0</th>\n",
              "      <td>5°21'38''</td>\n",
              "      <td>7°49'44''</td>\n",
              "    </tr>\n",
              "    <tr>\n",
              "      <th>1</th>\n",
              "      <td>5°21'13''</td>\n",
              "      <td>7°49'44''</td>\n",
              "    </tr>\n",
              "    <tr>\n",
              "      <th>2</th>\n",
              "      <td>5°21'12''</td>\n",
              "      <td>7°49'43''</td>\n",
              "    </tr>\n",
              "    <tr>\n",
              "      <th>3</th>\n",
              "      <td>5°21'13''</td>\n",
              "      <td>7°49'44''</td>\n",
              "    </tr>\n",
              "    <tr>\n",
              "      <th>4</th>\n",
              "      <td>5°21'13''</td>\n",
              "      <td>7°49'43''</td>\n",
              "    </tr>\n",
              "  </tbody>\n",
              "</table>\n",
              "</div>"
            ],
            "text/plain": [
              "         Lat       Long\n",
              "0  5°21'38''  7°49'44''\n",
              "1  5°21'13''  7°49'44''\n",
              "2  5°21'12''  7°49'43''\n",
              "3  5°21'13''  7°49'44''\n",
              "4  5°21'13''  7°49'43''"
            ]
          },
          "metadata": {},
          "execution_count": 13
        }
      ]
    },
    {
      "cell_type": "code",
      "metadata": {
        "id": "xIMSt7BgK9a6"
      },
      "source": [
        "def main(df,regex):\n",
        "  def func(col):\n",
        "    def f(x):\n",
        "      col_str = x[col]\n",
        "      col_list = re.split(regex,col_str)\n",
        "      col_list = [int(i) for i in col_list[:3]]\n",
        "      res = col_list[0] + col_list[1]/60 + col_list[2]/3600\n",
        "      return res\n",
        "    # df[[col+'_D',col+'_M',col+'_S']] = df.apply(f,axis=1,result_type=\"expand\")\n",
        "    df[[col+'_DD']] = df.apply(f,axis=1,result_type=\"expand\")\n",
        "  func('Lat')\n",
        "  func('Long')\n",
        "  # df[\"Lat_dir\"] = \"N\"\n",
        "  # df[\"Long_dir\"] = \"E\"\n",
        "  return df.head()"
      ],
      "execution_count": 14,
      "outputs": []
    },
    {
      "cell_type": "code",
      "metadata": {
        "colab": {
          "base_uri": "https://localhost:8080/",
          "height": 206
        },
        "id": "8OmlNW-HRid0",
        "outputId": "ca7c4d42-d280-4b89-8204-6c8d51e67931"
      },
      "source": [
        "main(houses,\"'|°\")"
      ],
      "execution_count": 18,
      "outputs": [
        {
          "output_type": "execute_result",
          "data": {
            "text/html": [
              "<div>\n",
              "<style scoped>\n",
              "    .dataframe tbody tr th:only-of-type {\n",
              "        vertical-align: middle;\n",
              "    }\n",
              "\n",
              "    .dataframe tbody tr th {\n",
              "        vertical-align: top;\n",
              "    }\n",
              "\n",
              "    .dataframe thead th {\n",
              "        text-align: right;\n",
              "    }\n",
              "</style>\n",
              "<table border=\"1\" class=\"dataframe\">\n",
              "  <thead>\n",
              "    <tr style=\"text-align: right;\">\n",
              "      <th></th>\n",
              "      <th>Lat</th>\n",
              "      <th>Long</th>\n",
              "      <th>Lat_DD</th>\n",
              "      <th>Long_DD</th>\n",
              "    </tr>\n",
              "  </thead>\n",
              "  <tbody>\n",
              "    <tr>\n",
              "      <th>0</th>\n",
              "      <td>5°21'38''</td>\n",
              "      <td>7°49'44''</td>\n",
              "      <td>5.360556</td>\n",
              "      <td>7.828889</td>\n",
              "    </tr>\n",
              "    <tr>\n",
              "      <th>1</th>\n",
              "      <td>5°21'13''</td>\n",
              "      <td>7°49'44''</td>\n",
              "      <td>5.353611</td>\n",
              "      <td>7.828889</td>\n",
              "    </tr>\n",
              "    <tr>\n",
              "      <th>2</th>\n",
              "      <td>5°21'12''</td>\n",
              "      <td>7°49'43''</td>\n",
              "      <td>5.353333</td>\n",
              "      <td>7.828611</td>\n",
              "    </tr>\n",
              "    <tr>\n",
              "      <th>3</th>\n",
              "      <td>5°21'13''</td>\n",
              "      <td>7°49'44''</td>\n",
              "      <td>5.353611</td>\n",
              "      <td>7.828889</td>\n",
              "    </tr>\n",
              "    <tr>\n",
              "      <th>4</th>\n",
              "      <td>5°21'13''</td>\n",
              "      <td>7°49'43''</td>\n",
              "      <td>5.353611</td>\n",
              "      <td>7.828611</td>\n",
              "    </tr>\n",
              "  </tbody>\n",
              "</table>\n",
              "</div>"
            ],
            "text/plain": [
              "         Lat       Long    Lat_DD   Long_DD\n",
              "0  5°21'38''  7°49'44''  5.360556  7.828889\n",
              "1  5°21'13''  7°49'44''  5.353611  7.828889\n",
              "2  5°21'12''  7°49'43''  5.353333  7.828611\n",
              "3  5°21'13''  7°49'44''  5.353611  7.828889\n",
              "4  5°21'13''  7°49'43''  5.353611  7.828611"
            ]
          },
          "metadata": {},
          "execution_count": 18
        }
      ]
    },
    {
      "cell_type": "code",
      "metadata": {
        "colab": {
          "base_uri": "https://localhost:8080/",
          "height": 206
        },
        "id": "GFWipn11RfPW",
        "outputId": "71fc4132-ab9f-451b-dbe6-bef2deeeec0b"
      },
      "source": [
        "main(poles,\"° |’ |”\")"
      ],
      "execution_count": 19,
      "outputs": [
        {
          "output_type": "execute_result",
          "data": {
            "text/html": [
              "<div>\n",
              "<style scoped>\n",
              "    .dataframe tbody tr th:only-of-type {\n",
              "        vertical-align: middle;\n",
              "    }\n",
              "\n",
              "    .dataframe tbody tr th {\n",
              "        vertical-align: top;\n",
              "    }\n",
              "\n",
              "    .dataframe thead th {\n",
              "        text-align: right;\n",
              "    }\n",
              "</style>\n",
              "<table border=\"1\" class=\"dataframe\">\n",
              "  <thead>\n",
              "    <tr style=\"text-align: right;\">\n",
              "      <th></th>\n",
              "      <th>Lat</th>\n",
              "      <th>Long</th>\n",
              "      <th>Status</th>\n",
              "      <th>Lat_DD</th>\n",
              "      <th>Long_DD</th>\n",
              "    </tr>\n",
              "  </thead>\n",
              "  <tbody>\n",
              "    <tr>\n",
              "      <th>0</th>\n",
              "      <td>5° 21’ 2”N</td>\n",
              "      <td>7° 49’ 53”E</td>\n",
              "      <td>NaN</td>\n",
              "      <td>5.350556</td>\n",
              "      <td>7.831389</td>\n",
              "    </tr>\n",
              "    <tr>\n",
              "      <th>1</th>\n",
              "      <td>5° 21’ 3”N</td>\n",
              "      <td>7° 49’ 51”E</td>\n",
              "      <td>NaN</td>\n",
              "      <td>5.350833</td>\n",
              "      <td>7.830833</td>\n",
              "    </tr>\n",
              "    <tr>\n",
              "      <th>2</th>\n",
              "      <td>5° 21’ 4”N</td>\n",
              "      <td>7° 49’ 49”E</td>\n",
              "      <td>NaN</td>\n",
              "      <td>5.351111</td>\n",
              "      <td>7.830278</td>\n",
              "    </tr>\n",
              "    <tr>\n",
              "      <th>3</th>\n",
              "      <td>5° 21’ 5”N</td>\n",
              "      <td>7° 49’ 47”E</td>\n",
              "      <td>NaN</td>\n",
              "      <td>5.351389</td>\n",
              "      <td>7.829722</td>\n",
              "    </tr>\n",
              "    <tr>\n",
              "      <th>4</th>\n",
              "      <td>5° 21’ 6”N</td>\n",
              "      <td>7° 49’ 46”E</td>\n",
              "      <td>NaN</td>\n",
              "      <td>5.351667</td>\n",
              "      <td>7.829444</td>\n",
              "    </tr>\n",
              "  </tbody>\n",
              "</table>\n",
              "</div>"
            ],
            "text/plain": [
              "          Lat         Long Status    Lat_DD   Long_DD\n",
              "0  5° 21’ 2”N  7° 49’ 53”E    NaN  5.350556  7.831389\n",
              "1  5° 21’ 3”N  7° 49’ 51”E    NaN  5.350833  7.830833\n",
              "2  5° 21’ 4”N  7° 49’ 49”E    NaN  5.351111  7.830278\n",
              "3  5° 21’ 5”N  7° 49’ 47”E    NaN  5.351389  7.829722\n",
              "4  5° 21’ 6”N  7° 49’ 46”E    NaN  5.351667  7.829444"
            ]
          },
          "metadata": {},
          "execution_count": 19
        }
      ]
    },
    {
      "cell_type": "code",
      "metadata": {
        "id": "h1sIgGZqX0XJ"
      },
      "source": [
        "def dist(pos1,pos2):\n",
        "  R = 6373.0\n",
        "  (lat1,lon1)=pos1\n",
        "  (lat2,lon2)= pos2\n",
        "  dlon = abs(lon2 - lon1)\n",
        "  dlat = abs(lat2 - lat1)\n",
        "  a = math.sin(dlat / 2)*2 + math.cos(lat1) * math.cos(lat2) * math.sin(dlon / 2)*2\n",
        "  c = 2 * math.atan2(math.sqrt(a), math.sqrt(1 - a))\n",
        "  distance = R * c\n",
        "  return distance"
      ],
      "execution_count": 20,
      "outputs": []
    },
    {
      "cell_type": "code",
      "metadata": {
        "id": "DOAWD1lVWlWR"
      },
      "source": [
        "minimum=[]\n",
        "for i in range(len(houses)):\n",
        "  house = houses.iloc[i][['Lat_DD','Long_DD']].values\n",
        "  dists=[]\n",
        "  for j in range(len(poles)):\n",
        "    pole = poles.iloc[j][['Lat_DD','Long_DD']].values\n",
        "    dists.append(dist(house,pole))\n",
        "  m=np.argmin(dists)\n",
        "  minimum.append([m,dists[m]])\n",
        "houses[['closer_pole_index','closer_distance']]=minimum"
      ],
      "execution_count": 21,
      "outputs": []
    },
    {
      "cell_type": "code",
      "metadata": {
        "colab": {
          "base_uri": "https://localhost:8080/",
          "height": 423
        },
        "id": "35cCFjlodfsQ",
        "outputId": "bf95bd6c-bce0-4e8d-fba6-09b8cac6ac68"
      },
      "source": [
        "houses"
      ],
      "execution_count": 22,
      "outputs": [
        {
          "output_type": "execute_result",
          "data": {
            "text/html": [
              "<div>\n",
              "<style scoped>\n",
              "    .dataframe tbody tr th:only-of-type {\n",
              "        vertical-align: middle;\n",
              "    }\n",
              "\n",
              "    .dataframe tbody tr th {\n",
              "        vertical-align: top;\n",
              "    }\n",
              "\n",
              "    .dataframe thead th {\n",
              "        text-align: right;\n",
              "    }\n",
              "</style>\n",
              "<table border=\"1\" class=\"dataframe\">\n",
              "  <thead>\n",
              "    <tr style=\"text-align: right;\">\n",
              "      <th></th>\n",
              "      <th>Lat</th>\n",
              "      <th>Long</th>\n",
              "      <th>Lat_DD</th>\n",
              "      <th>Long_DD</th>\n",
              "      <th>closer_pole_index</th>\n",
              "      <th>closer_distance</th>\n",
              "    </tr>\n",
              "  </thead>\n",
              "  <tbody>\n",
              "    <tr>\n",
              "      <th>0</th>\n",
              "      <td>5°21'38''</td>\n",
              "      <td>7°49'44''</td>\n",
              "      <td>5.360556</td>\n",
              "      <td>7.828889</td>\n",
              "      <td>55</td>\n",
              "      <td>525.020304</td>\n",
              "    </tr>\n",
              "    <tr>\n",
              "      <th>1</th>\n",
              "      <td>5°21'13''</td>\n",
              "      <td>7°49'44''</td>\n",
              "      <td>5.353611</td>\n",
              "      <td>7.828889</td>\n",
              "      <td>17</td>\n",
              "      <td>212.443169</td>\n",
              "    </tr>\n",
              "    <tr>\n",
              "      <th>2</th>\n",
              "      <td>5°21'12''</td>\n",
              "      <td>7°49'43''</td>\n",
              "      <td>5.353333</td>\n",
              "      <td>7.828611</td>\n",
              "      <td>17</td>\n",
              "      <td>127.027174</td>\n",
              "    </tr>\n",
              "    <tr>\n",
              "      <th>3</th>\n",
              "      <td>5°21'13''</td>\n",
              "      <td>7°49'44''</td>\n",
              "      <td>5.353611</td>\n",
              "      <td>7.828889</td>\n",
              "      <td>17</td>\n",
              "      <td>212.443169</td>\n",
              "    </tr>\n",
              "    <tr>\n",
              "      <th>4</th>\n",
              "      <td>5°21'13''</td>\n",
              "      <td>7°49'43''</td>\n",
              "      <td>5.353611</td>\n",
              "      <td>7.828611</td>\n",
              "      <td>17</td>\n",
              "      <td>247.541918</td>\n",
              "    </tr>\n",
              "    <tr>\n",
              "      <th>...</th>\n",
              "      <td>...</td>\n",
              "      <td>...</td>\n",
              "      <td>...</td>\n",
              "      <td>...</td>\n",
              "      <td>...</td>\n",
              "      <td>...</td>\n",
              "    </tr>\n",
              "    <tr>\n",
              "      <th>139</th>\n",
              "      <td>5°21'7''</td>\n",
              "      <td>7°49'49''</td>\n",
              "      <td>5.351944</td>\n",
              "      <td>7.830278</td>\n",
              "      <td>5</td>\n",
              "      <td>219.614918</td>\n",
              "    </tr>\n",
              "    <tr>\n",
              "      <th>140</th>\n",
              "      <td>5°21'22''</td>\n",
              "      <td>7°49'45''</td>\n",
              "      <td>5.356111</td>\n",
              "      <td>7.829167</td>\n",
              "      <td>32</td>\n",
              "      <td>433.513841</td>\n",
              "    </tr>\n",
              "    <tr>\n",
              "      <th>141</th>\n",
              "      <td>5°21'14''</td>\n",
              "      <td>7°49'43''</td>\n",
              "      <td>5.353889</td>\n",
              "      <td>7.828611</td>\n",
              "      <td>13</td>\n",
              "      <td>179.780290</td>\n",
              "    </tr>\n",
              "    <tr>\n",
              "      <th>142</th>\n",
              "      <td>5°21'12''</td>\n",
              "      <td>7°49'45''</td>\n",
              "      <td>5.353333</td>\n",
              "      <td>7.829167</td>\n",
              "      <td>12</td>\n",
              "      <td>0.000000</td>\n",
              "    </tr>\n",
              "    <tr>\n",
              "      <th>143</th>\n",
              "      <td>5°21'17''</td>\n",
              "      <td>7°49'40''</td>\n",
              "      <td>5.354722</td>\n",
              "      <td>7.827778</td>\n",
              "      <td>26</td>\n",
              "      <td>284.588860</td>\n",
              "    </tr>\n",
              "  </tbody>\n",
              "</table>\n",
              "<p>144 rows × 6 columns</p>\n",
              "</div>"
            ],
            "text/plain": [
              "           Lat       Long  ...  closer_pole_index  closer_distance\n",
              "0    5°21'38''  7°49'44''  ...                 55       525.020304\n",
              "1    5°21'13''  7°49'44''  ...                 17       212.443169\n",
              "2    5°21'12''  7°49'43''  ...                 17       127.027174\n",
              "3    5°21'13''  7°49'44''  ...                 17       212.443169\n",
              "4    5°21'13''  7°49'43''  ...                 17       247.541918\n",
              "..         ...        ...  ...                ...              ...\n",
              "139   5°21'7''  7°49'49''  ...                  5       219.614918\n",
              "140  5°21'22''  7°49'45''  ...                 32       433.513841\n",
              "141  5°21'14''  7°49'43''  ...                 13       179.780290\n",
              "142  5°21'12''  7°49'45''  ...                 12         0.000000\n",
              "143  5°21'17''  7°49'40''  ...                 26       284.588860\n",
              "\n",
              "[144 rows x 6 columns]"
            ]
          },
          "metadata": {},
          "execution_count": 22
        }
      ]
    },
    {
      "cell_type": "code",
      "metadata": {
        "id": "o6ozgoYPerdP",
        "colab": {
          "base_uri": "https://localhost:8080/"
        },
        "outputId": "e5bdcd22-27b3-4258-ea12-f4f741b75e5f"
      },
      "source": [
        "poles.iloc[12]"
      ],
      "execution_count": 23,
      "outputs": [
        {
          "output_type": "execute_result",
          "data": {
            "text/plain": [
              "Lat        5° 21’ 12”N\n",
              "Long       7° 49’ 45”E\n",
              "Status             NaN\n",
              "Lat_DD         5.35333\n",
              "Long_DD        7.82917\n",
              "Name: 12, dtype: object"
            ]
          },
          "metadata": {},
          "execution_count": 23
        }
      ]
    },
    {
      "cell_type": "code",
      "metadata": {
        "id": "sJZ_T7Dj6dqx"
      },
      "source": [
        ""
      ],
      "execution_count": 23,
      "outputs": []
    }
  ]
}